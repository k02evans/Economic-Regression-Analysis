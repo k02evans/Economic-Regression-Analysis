{
 "cells": [
  {
   "cell_type": "code",
   "execution_count": null,
   "id": "acd67f5e-2b77-41b7-a0e1-cfb7ca5f0b2b",
   "metadata": {},
   "outputs": [],
   "source": [
    "Kaius Evans\n",
    "Regression Analysis of Year and State Fixed effects on CO2 Emissions regressed on energy prices and US State GDP \n",
    "between 1997-2019."
   ]
  },
  {
   "cell_type": "code",
   "execution_count": null,
   "id": "cf04c1a0-eeac-489a-b5a2-b6bcbe7d31a1",
   "metadata": {},
   "outputs": [],
   "source": [
    "    The relationships between economic activity and carbon pollution are usually investigated through a reduced-form energy demand \n",
    "model that links energy consumption to energy prices and aggregate economic activity.\n",
    "    \n",
    "    The data comes from the U.S. Department of Energy, the U.S. Energy Information Administration and the Bureau of Economic Analysis."
   ]
  },
  {
   "cell_type": "code",
   "execution_count": null,
   "id": "4f976ccf-4a0e-41ea-9f58-07dc2868ce89",
   "metadata": {},
   "outputs": [],
   "source": [
    "IMPORT AND CLEAN DATASETS"
   ]
  },
  {
   "cell_type": "code",
   "execution_count": 1,
   "id": "8fbc71ec-0378-4b4d-b5f5-b96d0b7a1479",
   "metadata": {
    "collapsed": true,
    "jupyter": {
     "outputs_hidden": true,
     "source_hidden": true
    }
   },
   "outputs": [
    {
     "name": "stdout",
     "output_type": "stream",
     "text": [
      "CO2 Data (codx) - First 50 rows:\n",
      "        State  Year         co2\n",
      "0      ALASKA  1997   41.217128\n",
      "1      ALASKA  1998   42.236285\n",
      "2      ALASKA  1999   42.864469\n",
      "3      ALASKA  2000   43.575045\n",
      "4      ALASKA  2001   42.548535\n",
      "5      ALASKA  2002   42.736578\n",
      "6      ALASKA  2003   42.890870\n",
      "7      ALASKA  2004   46.193065\n",
      "8      ALASKA  2005   47.485308\n",
      "9      ALASKA  2006   45.417570\n",
      "10     ALASKA  2007   43.653642\n",
      "11     ALASKA  2008   39.079171\n",
      "12     ALASKA  2009   37.283488\n",
      "13     ALASKA  2010   37.137284\n",
      "14     ALASKA  2011   37.085337\n",
      "15     ALASKA  2012   36.155281\n",
      "16     ALASKA  2013   34.049190\n",
      "17     ALASKA  2014   33.919405\n",
      "18     ALASKA  2015   35.027804\n",
      "19     ALASKA  2016   33.406902\n",
      "20     ALASKA  2017   33.726966\n",
      "21     ALASKA  2018   34.514589\n",
      "22     ALASKA  2019   34.259440\n",
      "23   ALABAMA   1997  134.122751\n",
      "24   ALABAMA   1998  133.525606\n",
      "25   ALABAMA   1999  135.848198\n",
      "26   ALABAMA   2000  142.302750\n",
      "27   ALABAMA   2001  133.309972\n",
      "28   ALABAMA   2002  138.301049\n",
      "29   ALABAMA   2003  139.781270\n",
      "30   ALABAMA   2004  141.984129\n",
      "31   ALABAMA   2005  143.520721\n",
      "32   ALABAMA   2006  145.756273\n",
      "33   ALABAMA   2007  147.302459\n",
      "34   ALABAMA   2008  139.355305\n",
      "35   ALABAMA   2009  119.797558\n",
      "36   ALABAMA   2010  132.488047\n",
      "37   ALABAMA   2011  129.546189\n",
      "38   ALABAMA   2012  122.631371\n",
      "39   ALABAMA   2013  120.463436\n",
      "40   ALABAMA   2014  122.632268\n",
      "41   ALABAMA   2015  119.200889\n",
      "42   ALABAMA   2016  113.995134\n",
      "43   ALABAMA   2017  108.588384\n",
      "44   ALABAMA   2018  112.355471\n",
      "45   ALABAMA   2019  106.250752\n",
      "46  ARKANSAS   1997   59.143381\n",
      "47  ARKANSAS   1998   60.528634\n",
      "48  ARKANSAS   1999   62.727468\n",
      "49  ARKANSAS   2000   63.341272\n",
      "\n",
      "DataFrame dtypes:\n",
      "State     object\n",
      "Year       int64\n",
      "co2      float64\n",
      "dtype: object\n"
     ]
    }
   ],
   "source": [
    "import pandas as pd\n",
    "co2_path = \"/Users/kaiusevans/Downloads/MIDTERM-2/STATE_DATA/co2_FINAL.xlsx\"\n",
    "co2_data = pd.read_excel(co2_path, skiprows=4, nrows=51)  \n",
    "co2_data = co2_data.rename(columns={co2_data.columns[0]: \"State\"})\n",
    "\n",
    "year_cols = [col for col in co2_data.columns if isinstance(col, int) and 1997 <= col <= 2019]\n",
    "\n",
    "filtered_co2_data = co2_data[[\"State\"] + year_cols]\n",
    "filtered_co2_data = filtered_co2_data.rename(columns={year: f\"co2.{year}\" for year in year_cols})\n",
    "filtered_co2_data = filtered_co2_data.reset_index().rename(columns={\"index\": \"row_id\"})\n",
    "\n",
    "co2_long = pd.wide_to_long(filtered_co2_data, \n",
    "                          stubnames=\"co2\", \n",
    "                          i=[\"State\", \"row_id\"],\n",
    "                          j=\"Year\", \n",
    "                          sep=\".\")\n",
    "\n",
    "co2_long = co2_long.reset_index()\n",
    "\n",
    "co2_long = co2_long.drop(\"row_id\", axis=1)\n",
    "codx = co2_long.reset_index(drop=True)\n",
    "print(\"CO2 Data (codx) - First 50 rows:\")\n",
    "print(codx.head(50))\n",
    "print(\"\\nDataFrame dtypes:\")\n",
    "print(codx.dtypes)"
   ]
  },
  {
   "cell_type": "code",
   "execution_count": 2,
   "id": "3a04e69e-c78b-4e43-a2f2-7d5951d1894d",
   "metadata": {
    "collapsed": true,
    "jupyter": {
     "outputs_hidden": true,
     "source_hidden": true
    },
    "scrolled": true
   },
   "outputs": [
    {
     "name": "stdout",
     "output_type": "stream",
     "text": [
      "Coal Data (coal_dx) - First 5 rows:\n",
      "  State  Year  coal\n",
      "0    AK  1997  2.18\n",
      "1    AK  1998  2.06\n",
      "2    AK  1999  2.12\n",
      "3    AK  2000  1.87\n",
      "4    AK  2001  1.89\n",
      "\n",
      "DataFrame dtypes:\n",
      "State     object\n",
      "Year       int64\n",
      "coal     float64\n",
      "dtype: object\n"
     ]
    }
   ],
   "source": [
    "coal_path = \"/Users/kaiusevans/Downloads/MIDTERM-2/STATE_DATA/pr_ex_cl_es.xlsx\"\n",
    "coal_data = pd.read_excel(coal_path, sheet_name=\"Coal Prices\", skiprows=2, nrows=51)  \n",
    "coal_data = coal_data.rename(columns={coal_data.columns[0]: \"State\"})\n",
    "\n",
    "year_cols = [col for col in coal_data.columns if isinstance(col, int) and 1997 <= col <= 2019]\n",
    "\n",
    "filtered_coal_data = coal_data[[\"State\"] + year_cols]\n",
    "filtered_coal_data = filtered_coal_data.rename(columns={year: f\"coal.{year}\" for year in year_cols})\n",
    "filtered_coal_data = filtered_coal_data.reset_index().rename(columns={\"index\": \"row_id\"})\n",
    "\n",
    "coal_long = pd.wide_to_long(filtered_coal_data, \n",
    "                           stubnames=\"coal\", \n",
    "                           i=[\"State\", \"row_id\"],\n",
    "                           j=\"Year\", \n",
    "                           sep=\".\")\n",
    "\n",
    "coal_long = coal_long.reset_index()\n",
    "coal_long = coal_long.sort_values(by=[\"State\", \"Year\"])\n",
    "coal_long = coal_long.drop(\"row_id\", axis=1)\n",
    "\n",
    "\n",
    "coal_dx = coal_long.reset_index(drop=True)\n",
    "print(\"Coal Data (coal_dx) - First 5 rows:\")\n",
    "print(coal_dx.head())\n",
    "print(\"\\nDataFrame dtypes:\")\n",
    "print(coal_dx.dtypes)"
   ]
  },
  {
   "cell_type": "code",
   "execution_count": 3,
   "id": "66d055e7-0f83-4982-b667-84356679048d",
   "metadata": {
    "collapsed": true,
    "jupyter": {
     "outputs_hidden": true,
     "source_hidden": true
    }
   },
   "outputs": [
    {
     "name": "stdout",
     "output_type": "stream",
     "text": [
      "Electricity Data (elec_dx) - First 5 rows:\n",
      "  State  Year   elec\n",
      "0    AK  1997  29.57\n",
      "1    AK  1998  29.29\n",
      "2    AK  1999  28.71\n",
      "3    AK  2000  29.60\n",
      "4    AK  2001  30.96\n",
      "\n",
      "DataFrame dtypes:\n",
      "State     object\n",
      "Year       int64\n",
      "elec     float64\n",
      "dtype: object\n"
     ]
    }
   ],
   "source": [
    "elec_path = \"/Users/kaiusevans/Downloads/MIDTERM-2/STATE_DATA/pr_ex_cl_es.xlsx\"\n",
    "elec_data = pd.read_excel(elec_path, sheet_name=\"Electricity Prices\", skiprows=2, nrows=51)  \n",
    "elec_data = elec_data.rename(columns={elec_data.columns[0]: \"State\"})\n",
    "\n",
    "year_cols = [col for col in elec_data.columns if isinstance(col, int) and 1997 <= col <= 2019]\n",
    "\n",
    "filtered_elec_data = elec_data[[\"State\"] + year_cols]\n",
    "filtered_elec_data = filtered_elec_data.rename(columns={year: f\"elec.{year}\" for year in year_cols})\n",
    "filtered_elec_data = filtered_elec_data.reset_index().rename(columns={\"index\": \"row_id\"})\n",
    "\n",
    "elec_long = pd.wide_to_long(filtered_elec_data, \n",
    "                           stubnames=\"elec\", \n",
    "                           i=[\"State\", \"row_id\"],\n",
    "                           j=\"Year\", \n",
    "                           sep=\".\")\n",
    "elec_long = elec_long.reset_index()\n",
    "elec_long = elec_long.sort_values(by=[\"State\", \"Year\"])\n",
    "elec_long = elec_long.drop(\"row_id\", axis=1)\n",
    "\n",
    "elec_dx = elec_long.reset_index(drop=True)\n",
    "print(\"Electricity Data (elec_dx) - First 5 rows:\")\n",
    "print(elec_dx.head())\n",
    "print(\"\\nDataFrame dtypes:\")\n",
    "print(elec_dx.dtypes)"
   ]
  },
  {
   "cell_type": "code",
   "execution_count": 4,
   "id": "4e2d26e8-197b-483a-9604-307ac2d02eb3",
   "metadata": {
    "collapsed": true,
    "jupyter": {
     "outputs_hidden": true,
     "source_hidden": true
    }
   },
   "outputs": [
    {
     "name": "stdout",
     "output_type": "stream",
     "text": [
      "Petroleum Data (petro_dx) - First 5 rows:\n",
      "  State  Year  petro\n",
      "0    AK  1997   6.98\n",
      "1    AK  1998   5.54\n",
      "2    AK  1999   6.07\n",
      "3    AK  2000   8.54\n",
      "4    AK  2001   7.99\n",
      "\n",
      "DataFrame dtypes:\n",
      "State     object\n",
      "Year       int64\n",
      "petro    float64\n",
      "dtype: object\n"
     ]
    }
   ],
   "source": [
    "petro_path = \"/Users/kaiusevans/Downloads/MIDTERM-2/STATE_DATA/pr_ex_pa_ng.xlsx\"\n",
    "petro_data = pd.read_excel(petro_path, sheet_name=\"Petroleum Prices\", skiprows=2, nrows=51)  \n",
    "petro_data = petro_data.rename(columns={petro_data.columns[0]: \"State\"})\n",
    "year_cols = [col for col in petro_data.columns if isinstance(col, int) and 1997 <= col <= 2019]\n",
    "filtered_petro_data = petro_data[[\"State\"] + year_cols]\n",
    "filtered_petro_data = filtered_petro_data.rename(columns={year: f\"petro.{year}\" for year in year_cols})\n",
    "filtered_petro_data = filtered_petro_data.reset_index().rename(columns={\"index\": \"row_id\"})\n",
    "petro_long = pd.wide_to_long(filtered_petro_data, \n",
    "                           stubnames=\"petro\", \n",
    "                           i=[\"State\", \"row_id\"],\n",
    "                           j=\"Year\", \n",
    "                           sep=\".\")\n",
    "petro_long = petro_long.reset_index()\n",
    "petro_long = petro_long.sort_values(by=[\"State\", \"Year\"])\n",
    "petro_long = petro_long.drop(\"row_id\", axis=1)\n",
    "petro_dx = petro_long.reset_index(drop=True)\n",
    "print(\"Petroleum Data (petro_dx) - First 5 rows:\")\n",
    "print(petro_dx.head())\n",
    "print(\"\\nDataFrame dtypes:\")\n",
    "print(petro_dx.dtypes)"
   ]
  },
  {
   "cell_type": "code",
   "execution_count": 5,
   "id": "a2420e78-b5cc-4a87-b09b-9ed5d29b5aa1",
   "metadata": {
    "collapsed": true,
    "jupyter": {
     "outputs_hidden": true,
     "source_hidden": true
    }
   },
   "outputs": [
    {
     "name": "stdout",
     "output_type": "stream",
     "text": [
      "naturleum Data (natur_dx) - First 5 rows:\n",
      "  State  Year  natur\n",
      "0    AK  1997   2.08\n",
      "1    AK  1998   2.02\n",
      "2    AK  1999   1.92\n",
      "3    AK  2000   1.97\n",
      "4    AK  2001   2.58\n",
      "\n",
      "DataFrame dtypes:\n",
      "State     object\n",
      "Year       int64\n",
      "natur    float64\n",
      "dtype: object\n"
     ]
    }
   ],
   "source": [
    "natur_path = \"/Users/kaiusevans/Downloads/MIDTERM-2/STATE_DATA/pr_ex_pa_ng.xlsx\"\n",
    "natur_data = pd.read_excel(natur_path, sheet_name=\"Natural Gas Prices\", skiprows=2, nrows=51)  \n",
    "natur_data = natur_data.rename(columns={natur_data.columns[0]: \"State\"})\n",
    "year_cols = [col for col in natur_data.columns if isinstance(col, int) and 1997 <= col <= 2019]\n",
    "filtered_natur_data = natur_data[[\"State\"] + year_cols]\n",
    "filtered_natur_data = filtered_natur_data.rename(columns={year: f\"natur.{year}\" for year in year_cols})\n",
    "filtered_natur_data = filtered_natur_data.reset_index().rename(columns={\"index\": \"row_id\"})\n",
    "natur_long = pd.wide_to_long(filtered_natur_data, \n",
    "                           stubnames=\"natur\", \n",
    "                           i=[\"State\", \"row_id\"],\n",
    "                           j=\"Year\", \n",
    "                           sep=\".\")\n",
    "natur_long = natur_long.reset_index()\n",
    "natur_long = natur_long.sort_values(by=[\"State\", \"Year\"])\n",
    "natur_long = natur_long.drop(\"row_id\", axis=1)\n",
    "natur_dx = natur_long.reset_index(drop=True)\n",
    "print(\"naturleum Data (natur_dx) - First 5 rows:\")\n",
    "print(natur_dx.head())\n",
    "print(\"\\nDataFrame dtypes:\")\n",
    "print(natur_dx.dtypes)"
   ]
  },
  {
   "cell_type": "code",
   "execution_count": 6,
   "id": "4a12f39d-bfad-4fde-9e4d-bf970fa4877e",
   "metadata": {
    "collapsed": true,
    "jupyter": {
     "outputs_hidden": true,
     "source_hidden": true
    }
   },
   "outputs": [
    {
     "name": "stdout",
     "output_type": "stream",
     "text": [
      "popleum Data (pop_dx) - First 5 rows:\n",
      "  State  Year  pop\n",
      "0    AK  1997  613\n",
      "1    AK  1998  620\n",
      "2    AK  1999  625\n",
      "3    AK  2000  628\n",
      "4    AK  2001  634\n",
      "\n",
      "DataFrame dtypes:\n",
      "State    object\n",
      "Year      int64\n",
      "pop       int64\n",
      "dtype: object\n"
     ]
    }
   ],
   "source": [
    "pop_path = \"/Users/kaiusevans/Downloads/MIDTERM-2/STATE_DATA/us_pop_gdp.xlsx\"\n",
    "pop_data = pd.read_excel(pop_path, sheet_name=\"Total Population\", skiprows=2, nrows=51)  \n",
    "pop_data = pop_data.rename(columns={pop_data.columns[0]: \"State\"})\n",
    "year_cols = [col for col in pop_data.columns if isinstance(col, int) and 1997 <= col <= 2019]\n",
    "filtered_pop_data = pop_data[[\"State\"] + year_cols]\n",
    "filtered_pop_data = filtered_pop_data.rename(columns={year: f\"pop.{year}\" for year in year_cols})\n",
    "filtered_pop_data = filtered_pop_data.reset_index().rename(columns={\"index\": \"row_id\"})\n",
    "pop_long = pd.wide_to_long(filtered_pop_data, \n",
    "                           stubnames=\"pop\", \n",
    "                           i=[\"State\", \"row_id\"],\n",
    "                           j=\"Year\", \n",
    "                           sep=\".\")\n",
    "pop_long = pop_long.reset_index()\n",
    "pop_long = pop_long.sort_values(by=[\"State\", \"Year\"])\n",
    "pop_long = pop_long.drop(\"row_id\", axis=1)\n",
    "pop_dx = pop_long.reset_index(drop=True)\n",
    "print(\"popleum Data (pop_dx) - First 5 rows:\")\n",
    "print(pop_dx.head())\n",
    "print(\"\\nDataFrame dtypes:\")\n",
    "print(pop_dx.dtypes)"
   ]
  },
  {
   "cell_type": "code",
   "execution_count": 7,
   "id": "09659004-ed84-4557-9431-26d9eac5c3ce",
   "metadata": {
    "collapsed": true,
    "jupyter": {
     "outputs_hidden": true,
     "source_hidden": true
    },
    "scrolled": true
   },
   "outputs": [
    {
     "name": "stdout",
     "output_type": "stream",
     "text": [
      "gdpleum Data (gdp_dx) - First 5 rows:\n",
      "  State  Year    gdp\n",
      "0    AK  1997  42339\n",
      "1    AK  1998  41238\n",
      "2    AK  1999  40788\n",
      "3    AK  2000  39567\n",
      "4    AK  2001  41020\n",
      "\n",
      "DataFrame dtypes:\n",
      "State    object\n",
      "Year      int64\n",
      "gdp       int64\n",
      "dtype: object\n"
     ]
    }
   ],
   "source": [
    "gdp_path = \"/Users/kaiusevans/Downloads/MIDTERM-2/STATE_DATA/us_pop_gdp.xlsx\"\n",
    "gdp_data = pd.read_excel(gdp_path, sheet_name=\"Real GDP\", skiprows=2, nrows=51)  \n",
    "gdp_data = gdp_data.rename(columns={gdp_data.columns[0]: \"State\"})\n",
    "year_cols = [col for col in gdp_data.columns if isinstance(col, int) and 1997 <= col <= 2019]\n",
    "filtered_gdp_data = gdp_data[[\"State\"] + year_cols]\n",
    "filtered_gdp_data = filtered_gdp_data.rename(columns={year: f\"gdp.{year}\" for year in year_cols})\n",
    "filtered_gdp_data = filtered_gdp_data.reset_index().rename(columns={\"index\": \"row_id\"})\n",
    "gdp_long = pd.wide_to_long(filtered_gdp_data, \n",
    "                           stubnames=\"gdp\", \n",
    "                           i=[\"State\", \"row_id\"],\n",
    "                           j=\"Year\", \n",
    "                           sep=\".\")\n",
    "gdp_long = gdp_long.reset_index()\n",
    "gdp_long = gdp_long.sort_values(by=[\"State\", \"Year\"])\n",
    "gdp_long = gdp_long.drop(\"row_id\", axis=1)\n",
    "gdp_dx = gdp_long.reset_index(drop=True)\n",
    "print(\"gdpleum Data (gdp_dx) - First 5 rows:\")\n",
    "print(gdp_dx.head())\n",
    "print(\"\\nDataFrame dtypes:\")\n",
    "print(gdp_dx.dtypes)"
   ]
  },
  {
   "cell_type": "code",
   "execution_count": null,
   "id": "2860bee6-f56e-4482-b7ee-bf1f41d4ae23",
   "metadata": {},
   "outputs": [],
   "source": [
    "MERGE DATA AND DEFINE NEW DATAFRAM (DF)"
   ]
  },
  {
   "cell_type": "code",
   "execution_count": 8,
   "id": "614ac65c-a394-4e80-a294-201b80274cbc",
   "metadata": {
    "collapsed": true,
    "jupyter": {
     "outputs_hidden": true,
     "source_hidden": true
    }
   },
   "outputs": [
    {
     "name": "stdout",
     "output_type": "stream",
     "text": [
      "   State  Year  coal   elec  petro  natur   pop     gdp         co2\n",
      "0     AK  1997  2.18  29.57   6.98   2.08   613   42339   41.217128\n",
      "1     AK  1998  2.06  29.29   5.54   2.02   620   41238   42.236285\n",
      "2     AK  1999  2.12  28.71   6.07   1.92   625   40788   42.864469\n",
      "3     AK  2000  1.87  29.60   8.54   1.97   628   39567   43.575045\n",
      "4     AK  2001  1.89  30.96   7.99   2.58   634   41020   42.548535\n",
      "5     AK  2002  1.94  30.76   7.32   2.65   642   42916   42.736578\n",
      "6     AK  2003  2.00  30.86   8.40   3.02   648   42133   42.890870\n",
      "7     AK  2004  1.97  32.29  11.09   3.34   659   43752   46.193065\n",
      "8     AK  2005  2.01  34.43  14.49   3.97   667   45065   47.485308\n",
      "9     AK  2006  2.13  37.69  16.92   4.67   675   48538   45.417570\n",
      "10    AK  2007  2.34  38.96  18.09   5.76   680   51144   43.653642\n",
      "11    AK  2008  3.01  43.21  25.31   6.50   687   50891   39.079171\n",
      "12    AK  2009  3.61  44.29  17.55   7.42   699   55911   37.283488\n",
      "13    AK  2010  3.43  43.29  20.81   6.41   714   54219   37.137284\n",
      "14    AK  2011  3.85  47.13  26.94   6.61   722   54723   37.085337\n",
      "15    AK  2012  4.06  47.84  27.57   6.26   731   57718   36.155281\n",
      "16    AK  2013  4.90  48.37  26.81   6.78   738   54748   34.049190\n",
      "17    AK  2014  4.87  51.27  26.13   6.99   737   53481   33.919405\n",
      "18    AK  2015  5.03  51.65  18.49   7.27   738   54015   35.027804\n",
      "19    AK  2016  6.00  52.62  15.23   7.95   743   53289   33.406902\n",
      "20    AK  2017  6.43  56.05  17.19   8.82   741   52826   33.726966\n",
      "21    AK  2018  6.49  56.80  21.38   8.90   737   52929   34.514589\n",
      "22    AK  2019  6.46  59.36  20.08   8.83   734   53255   34.259440\n",
      "23    AL  1997  1.57  15.76   8.35   4.68  4368  144457  134.122751\n",
      "24    AL  1998  1.59  16.45   7.36   4.24  4405  149613  133.525606\n",
      "25    AL  1999  1.50  16.39   7.94   4.34  4430  155172  135.848198\n",
      "26    AL  2000  1.44  16.60  10.19   5.32  4452  157698  142.302750\n",
      "27    AL  2001  1.44  16.61   9.90   7.22  4468  157138  133.309972\n",
      "28    AL  2002  1.45  16.92   9.29   5.55  4480  161258  138.301049\n",
      "29    AL  2003  1.49  17.41  10.46   7.30  4503  165250  139.781270\n",
      "30    AL  2004  1.57  18.01  12.58   7.84  4531  175917  141.984129\n",
      "31    AL  2005  1.89  19.14  16.07  10.49  4570  181871  143.520721\n",
      "32    AL  2006  2.20  20.96  18.14   9.78  4629  185337  145.756273\n",
      "33    AL  2007  2.17  22.46  19.88   9.03  4673  186499  147.302459\n",
      "34    AL  2008  2.80  25.48  24.68  11.23  4718  185281  139.355305\n",
      "35    AL  2009  2.81  26.23  17.64   6.64  4758  178893  119.797558\n",
      "36    AL  2010  2.97  26.44  21.16   6.65  4786  183014  132.488047\n",
      "37    AL  2011  3.09  27.08  26.75   5.72  4800  185667  129.546189\n",
      "38    AL  2012  3.31  27.32  27.26   4.28  4817  186554  122.631371\n",
      "39    AL  2013  3.06  26.47  26.75   5.35  4832  188814  120.463436\n",
      "40    AL  2014  2.91  27.20  25.68   5.79  4844  187568  122.632268\n",
      "41    AL  2015  2.65  27.39  18.11   4.15  4855  189429  119.200889\n",
      "42    AL  2016  2.50  28.07  15.86   3.90  4867  191523  113.995134\n",
      "43    AL  2017  2.42  28.85  18.02   4.41  4878  193693  108.588384\n",
      "44    AL  2018  2.54  28.27  20.52   4.49  4892  198054  112.355471\n",
      "45    AL  2019  2.59  28.85  19.30   4.04  4908  200829  106.250752\n",
      "46    AR  1997  1.64  18.17   8.57   4.30  2601   82760   59.143381\n",
      "47    AR  1998  1.48  17.07   7.37   3.95  2626   84791   60.528634\n",
      "48    AR  1999  1.47  16.79   7.75   4.07  2652   89340   62.727468\n",
      "49    AR  2000  1.43  17.04  10.35   5.45  2679   90224   63.341272\n",
      "(1173, 9)\n",
      "\n",
      "Columns:\n",
      "['State', 'Year', 'coal', 'elec', 'petro', 'natur', 'pop', 'gdp', 'co2']\n",
      "\n",
      "Total number of states in merged data: 51\n",
      "States in merged data: ['AK', 'AL', 'AR', 'AZ', 'CA', 'CO', 'CT', 'DC', 'DE', 'FL', 'GA', 'HI', 'IA', 'ID', 'IL', 'IN', 'KS', 'KY', 'LA', 'MA', 'MD', 'ME', 'MI', 'MN', 'MO', 'MS', 'MT', 'NC', 'ND', 'NE', 'NH', 'NJ', 'NM', 'NV', 'NY', 'OH', 'OK', 'OR', 'PA', 'RI', 'SC', 'SD', 'TN', 'TX', 'UT', 'VA', 'VT', 'WA', 'WI', 'WV', 'WY']\n"
     ]
    }
   ],
   "source": [
    "state_map = {\n",
    "    \n",
    "    'AK': 'ALASKA', 'AL': 'ALABAMA', 'AR': 'ARKANSAS', 'AZ': 'ARIZONA', \n",
    "    'CA': 'CALIFORNIA', 'CO': 'COLORADO', 'CT': 'CONNECTICUT', 'DC': 'DISTRICT OF COLUMBIA',\n",
    "    'DE': 'DELAWARE', 'FL': 'FLORIDA', 'GA': 'GEORGIA', 'HI': 'HAWAII', \n",
    "    'IA': 'IOWA', 'ID': 'IDAHO', 'IL': 'ILLINOIS', 'IN': 'INDIANA',\n",
    "    'KS': 'KANSAS', 'KY': 'KENTUCKY', 'LA': 'LOUISIANA', 'MA': 'MASSACHUSETTS',\n",
    "    'MD': 'MARYLAND', 'ME': 'MAINE', 'MI': 'MICHIGAN', 'MN': 'MINNESOTA', \n",
    "    'MO': 'MISSOURI', 'MS': 'MISSISSIPPI', 'MT': 'MONTANA', 'NC': 'NORTH CAROLINA',\n",
    "    'ND': 'NORTH DAKOTA', 'NE': 'NEBRASKA', 'NH': 'NEW HAMPSHIRE', 'NJ': 'NEW JERSEY',\n",
    "    'NM': 'NEW MEXICO', 'NV': 'NEVADA', 'NY': 'NEW YORK', 'OH': 'OHIO',\n",
    "    'OK': 'OKLAHOMA', 'OR': 'OREGON', 'PA': 'PENNSYLVANIA', 'RI': 'RHODE ISLAND',\n",
    "    'SC': 'SOUTH CAROLINA', 'SD': 'SOUTH DAKOTA', 'TN': 'TENNESSEE', 'TX': 'TEXAS',\n",
    "    'UT': 'UTAH', 'VA': 'VIRGINIA', 'VT': 'VERMONT', 'WA': 'WASHINGTON',\n",
    "    'WI': 'WISCONSIN', 'WV': 'WEST VIRGINIA', 'WY': 'WYOMING'\n",
    "}\n",
    "\n",
    "df = coal_dx.copy()\n",
    "df = pd.merge(df, elec_dx, on=[\"State\", \"Year\"])\n",
    "df = pd.merge(df, petro_dx, on=[\"State\", \"Year\"])\n",
    "df = pd.merge(df, natur_dx, on=[\"State\", \"Year\"])\n",
    "df = pd.merge(df, pop_dx, on=[\"State\", \"Year\"])\n",
    "df = pd.merge(df, gdp_dx, on=[\"State\", \"Year\"])\n",
    "\n",
    "df['State_full'] = df['State'].map(state_map)\n",
    "\n",
    "codx_temp = codx.copy()\n",
    "codx_temp['State'] = codx_temp['State'].str.strip()\n",
    "\n",
    "df = pd.merge(df, codx_temp, left_on=[\"State_full\", \"Year\"], right_on=[\"State\", \"Year\"], how=\"left\")\n",
    "\n",
    "df = df.drop(['State_full', 'State_y'], axis=1)\n",
    "df = df.rename(columns={'State_x': 'State'})\n",
    "\n",
    "print(df.head(50))\n",
    "print(df.shape)\n",
    "print(\"\\nColumns:\")\n",
    "print(df.columns.tolist())\n",
    "\n",
    "print(\"\\nTotal number of states in merged data:\", df['State'].nunique())\n",
    "print(\"States in merged data:\", sorted(df['State'].unique()))"
   ]
  },
  {
   "cell_type": "code",
   "execution_count": 9,
   "id": "1886c652-fdfb-479d-ae27-778a37b9ceb6",
   "metadata": {
    "jupyter": {
     "source_hidden": true
    }
   },
   "outputs": [],
   "source": [
    "del codx\n",
    "del coal_dx\n",
    "del elec_dx\n",
    "del petro_dx\n",
    "del natur_dx\n",
    "del pop_dx\n",
    "del gdp_dx"
   ]
  },
  {
   "cell_type": "code",
   "execution_count": 10,
   "id": "d461ac96-f9e9-4818-923a-8b35f55c1a4d",
   "metadata": {
    "collapsed": true,
    "jupyter": {
     "outputs_hidden": true,
     "source_hidden": true
    },
    "scrolled": true
   },
   "outputs": [
    {
     "name": "stdout",
     "output_type": "stream",
     "text": [
      "(1104, 9)\n",
      "   State  Year  coal   elec  petro  natur   pop     gdp         co2\n",
      "23    AL  1997  1.57  15.76   8.35   4.68  4368  144457  134.122751\n",
      "24    AL  1998  1.59  16.45   7.36   4.24  4405  149613  133.525606\n",
      "25    AL  1999  1.50  16.39   7.94   4.34  4430  155172  135.848198\n",
      "26    AL  2000  1.44  16.60  10.19   5.32  4452  157698  142.302750\n",
      "27    AL  2001  1.44  16.61   9.90   7.22  4468  157138  133.309972\n"
     ]
    }
   ],
   "source": [
    "df = df[~df['State'].isin(['AK', 'HI', 'DC'])]\n",
    "\n",
    "print(df.shape)\n",
    "print(df.head())"
   ]
  },
  {
   "cell_type": "code",
   "execution_count": 11,
   "id": "a105a4ad-bdba-4362-9251-3d3842d9bb81",
   "metadata": {
    "jupyter": {
     "source_hidden": true
    }
   },
   "outputs": [],
   "source": [
    "df['coal'] = df['coal'].replace(0, 0.5)"
   ]
  },
  {
   "cell_type": "code",
   "execution_count": 12,
   "id": "7b50072f-05ea-4388-ac74-af1ecbff3fc1",
   "metadata": {
    "collapsed": true,
    "jupyter": {
     "outputs_hidden": true,
     "source_hidden": true
    }
   },
   "outputs": [
    {
     "name": "stdout",
     "output_type": "stream",
     "text": [
      "count    1104.000000\n",
      "mean       48.221549\n",
      "std         9.436042\n",
      "min        29.986676\n",
      "25%        41.245871\n",
      "50%        46.788561\n",
      "75%        53.736236\n",
      "max        78.095238\n",
      "Name: gdppc, dtype: float64\n",
      "   State  Year  coal   elec  petro  natur   pop     gdp         co2      gdppc\n",
      "23    AL  1997  1.57  15.76   8.35   4.68  4368  144457  134.122751  33.071658\n",
      "24    AL  1998  1.59  16.45   7.36   4.24  4405  149613  133.525606  33.964359\n",
      "25    AL  1999  1.50  16.39   7.94   4.34  4430  155172  135.848198  35.027540\n",
      "26    AL  2000  1.44  16.60  10.19   5.32  4452  157698  142.302750  35.421833\n",
      "27    AL  2001  1.44  16.61   9.90   7.22  4468  157138  133.309972  35.169651\n",
      "28    AL  2002  1.45  16.92   9.29   5.55  4480  161258  138.301049  35.995089\n",
      "29    AL  2003  1.49  17.41  10.46   7.30  4503  165250  139.781270  36.697757\n",
      "30    AL  2004  1.57  18.01  12.58   7.84  4531  175917  141.984129  38.825204\n",
      "31    AL  2005  1.89  19.14  16.07  10.49  4570  181871  143.520721  39.796718\n",
      "32    AL  2006  2.20  20.96  18.14   9.78  4629  185337  145.756273  40.038237\n",
      "33    AL  2007  2.17  22.46  19.88   9.03  4673  186499  147.302459  39.909908\n",
      "34    AL  2008  2.80  25.48  24.68  11.23  4718  185281  139.355305  39.271089\n",
      "35    AL  2009  2.81  26.23  17.64   6.64  4758  178893  119.797558  37.598361\n",
      "36    AL  2010  2.97  26.44  21.16   6.65  4786  183014  132.488047  38.239448\n",
      "37    AL  2011  3.09  27.08  26.75   5.72  4800  185667  129.546189  38.680625\n",
      "38    AL  2012  3.31  27.32  27.26   4.28  4817  186554  122.631371  38.728254\n",
      "39    AL  2013  3.06  26.47  26.75   5.35  4832  188814  120.463436  39.075745\n",
      "40    AL  2014  2.91  27.20  25.68   5.79  4844  187568  122.632268  38.721718\n",
      "41    AL  2015  2.65  27.39  18.11   4.15  4855  189429  119.200889  39.017302\n",
      "42    AL  2016  2.50  28.07  15.86   3.90  4867  191523  113.995134  39.351346\n",
      "43    AL  2017  2.42  28.85  18.02   4.41  4878  193693  108.588384  39.707462\n",
      "44    AL  2018  2.54  28.27  20.52   4.49  4892  198054  112.355471  40.485282\n",
      "45    AL  2019  2.59  28.85  19.30   4.04  4908  200829  106.250752  40.918704\n",
      "46    AR  1997  1.64  18.17   8.57   4.30  2601   82760   59.143381  31.818531\n",
      "47    AR  1998  1.48  17.07   7.37   3.95  2626   84791   60.528634  32.289033\n",
      "48    AR  1999  1.47  16.79   7.75   4.07  2652   89340   62.727468  33.687783\n",
      "49    AR  2000  1.43  17.04  10.35   5.45  2679   90224   63.341272  33.678238\n",
      "50    AR  2001  0.91  17.89  10.03   6.92  2692   90081   62.492533  33.462481\n",
      "51    AR  2002  0.88  16.59   9.53   5.91  2706   92989   61.205500  34.364006\n",
      "52    AR  2003  1.22  16.45  10.76   6.76  2725   96714   62.185737  35.491376\n",
      "53    AR  2004  1.25  16.76  13.03   8.33  2750  101194   62.510771  36.797818\n",
      "54    AR  2005  1.50  18.63  16.77   9.94  2781  104759   60.232476  37.669543\n",
      "55    AR  2006  1.51  20.67  18.76   9.06  2822  107084   62.093372  37.946137\n",
      "56    AR  2007  1.65  20.57  20.85   9.27  2849  106272   63.382697  37.301509\n",
      "57    AR  2008  1.78  22.47  25.90  10.72  2875  105923   64.169813  36.842783\n",
      "58    AR  2009  1.73  22.39  17.39   7.81  2897  102514   61.542343  35.386262\n",
      "59    AR  2010  1.74  21.57  21.30   7.23  2922  105224   66.087436  36.010951\n",
      "60    AR  2011  1.93  22.02  26.98   7.36  2941  107321   67.484337  36.491329\n",
      "61    AR  2012  2.27  22.56  27.61   5.53  2953  107719   66.255250  36.477819\n",
      "62    AR  2013  2.41  23.29  26.97   6.63  2960  110301   68.512147  37.263851\n",
      "63    AR  2014  2.42  23.19  25.84   7.49  2969  111730   68.913761  37.632199\n",
      "64    AR  2015  2.28  24.03  18.24   6.19  2980  112939   59.053365  37.898993\n",
      "65    AR  2016  2.19  23.85  15.94   5.18  2992  113490   62.132498  37.931150\n",
      "66    AR  2017  2.04  24.23  18.08   5.95  3004  114951   64.172116  38.265979\n",
      "67    AR  2018  1.99  22.83  20.66   5.86  3012  116699   70.786146  38.744688\n",
      "68    AR  2019  1.99  24.11  19.37   5.20  3021  117447   65.072202  38.876862\n",
      "69    AZ  1997  1.45  21.63   9.29   4.93  4737  168372   71.722988  35.544015\n",
      "70    AZ  1998  1.35  21.48   7.83   4.92  4883  182984   76.724081  37.473684\n",
      "71    AZ  1999  1.35  21.20   8.53   4.95  5024  198002   80.630985  39.411226\n",
      "72    AZ  2000  1.26  21.25  10.92   5.95  5161  207775   86.642015  40.258671\n"
     ]
    }
   ],
   "source": [
    "df['gdppc'] = df['gdp'] / df['pop']\n",
    "print(df['gdppc'].describe())\n",
    "\n",
    "print(df.head(50))"
   ]
  },
  {
   "cell_type": "code",
   "execution_count": null,
   "id": "ac9ee992-eaa8-41b9-a34f-f79f40ca8c3a",
   "metadata": {},
   "outputs": [],
   "source": [
    "REGRESSION"
   ]
  },
  {
   "cell_type": "code",
   "execution_count": 13,
   "id": "d2453850-5b93-4098-8f62-310cd8b30de2",
   "metadata": {
    "collapsed": true,
    "jupyter": {
     "outputs_hidden": true,
     "source_hidden": true
    }
   },
   "outputs": [
    {
     "name": "stdout",
     "output_type": "stream",
     "text": [
      "                            OLS Regression Results                            \n",
      "==============================================================================\n",
      "Dep. Variable:            np.log(co2)   R-squared:                       0.165\n",
      "Model:                            OLS   Adj. R-squared:                  0.161\n",
      "Method:                 Least Squares   F-statistic:                     44.77\n",
      "Date:                Mon, 24 Mar 2025   Prob (F-statistic):           3.97e-49\n",
      "Time:                        02:53:11   Log-Likelihood:                -1413.0\n",
      "No. Observations:                1104   AIC:                             2840.\n",
      "Df Residuals:                    1097   BIC:                             2875.\n",
      "Df Model:                           6                                         \n",
      "Covariance Type:                  HC1                                         \n",
      "=========================================================================================\n",
      "                            coef    std err          z      P>|z|      [0.025      0.975]\n",
      "-----------------------------------------------------------------------------------------\n",
      "Intercept               -76.5578      8.865     -8.636      0.000     -93.934     -59.182\n",
      "np.log(coal)              0.7053      0.067     10.476      0.000       0.573       0.837\n",
      "np.log(elec)             -1.0880      0.129     -8.407      0.000      -1.342      -0.834\n",
      "np.log(petro)            -0.2469      0.086     -2.872      0.004      -0.415      -0.078\n",
      "np.log(natur)            -0.2237      0.096     -2.329      0.020      -0.412      -0.035\n",
      "np.log(gdppc)            42.8901      4.587      9.349      0.000      33.899      51.881\n",
      "I(np.log(gdppc) ** 2)    -5.3889      0.593     -9.080      0.000      -6.552      -4.226\n",
      "==============================================================================\n",
      "Omnibus:                       26.134   Durbin-Watson:                   0.119\n",
      "Prob(Omnibus):                  0.000   Jarque-Bera (JB):               27.379\n",
      "Skew:                          -0.380   Prob(JB):                     1.13e-06\n",
      "Kurtosis:                       3.129   Cond. No.                     6.21e+03\n",
      "==============================================================================\n",
      "\n",
      "Notes:\n",
      "[1] Standard Errors are heteroscedasticity robust (HC1)\n",
      "[2] The condition number is large, 6.21e+03. This might indicate that there are\n",
      "strong multicollinearity or other numerical problems.\n"
     ]
    }
   ],
   "source": [
    "import numpy as np\n",
    "import pandas as pd\n",
    "import statsmodels.formula.api as smf\n",
    "\n",
    "reg1_co2 = smf.ols(\n",
    "    formula = \"np.log(co2) ~ np.log(coal) + np.log(elec) + np.log(petro) + np.log(natur) + np.log(gdppc) + I(np.log(gdppc) ** 2)\", \n",
    "    data = df,\n",
    "    eval_env = 1\n",
    ").fit(cov_type = \"HC1\")\n",
    "\n",
    "print(reg1_co2.summary())"
   ]
  },
  {
   "cell_type": "code",
   "execution_count": 14,
   "id": "cc0defe9-d69d-4729-9bac-5266ed2b1def",
   "metadata": {
    "collapsed": true,
    "jupyter": {
     "outputs_hidden": true,
     "source_hidden": true
    },
    "scrolled": true
   },
   "outputs": [
    {
     "name": "stdout",
     "output_type": "stream",
     "text": [
      "                            OLS Regression Results                            \n",
      "==============================================================================\n",
      "Dep. Variable:            np.log(co2)   R-squared:                       0.995\n",
      "Model:                            OLS   Adj. R-squared:                  0.995\n",
      "Method:                 Least Squares   F-statistic:                     6693.\n",
      "Date:                Mon, 24 Mar 2025   Prob (F-statistic):               0.00\n",
      "Time:                        02:53:11   Log-Likelihood:                 1395.0\n",
      "No. Observations:                1104   AIC:                            -2682.\n",
      "Df Residuals:                    1050   BIC:                            -2412.\n",
      "Df Model:                          53                                         \n",
      "Covariance Type:                  HC1                                         \n",
      "=========================================================================================\n",
      "                            coef    std err          z      P>|z|      [0.025      0.975]\n",
      "-----------------------------------------------------------------------------------------\n",
      "Intercept                -0.2402      1.333     -0.180      0.857      -2.852       2.372\n",
      "C(State)[T.AR]           -0.7132      0.018    -38.703      0.000      -0.749      -0.677\n",
      "C(State)[T.AZ]           -0.3377      0.025    -13.264      0.000      -0.388      -0.288\n",
      "C(State)[T.CA]            1.0382      0.021     49.065      0.000       0.997       1.080\n",
      "C(State)[T.CO]           -0.4421      0.025    -17.402      0.000      -0.492      -0.392\n",
      "C(State)[T.CT]           -1.2445      0.026    -47.450      0.000      -1.296      -1.193\n",
      "C(State)[T.DE]           -2.2620      0.028    -81.170      0.000      -2.317      -2.207\n",
      "C(State)[T.FL]            0.6168      0.016     39.353      0.000       0.586       0.647\n",
      "C(State)[T.GA]            0.1228      0.019      6.316      0.000       0.085       0.161\n",
      "C(State)[T.IA]           -0.5628      0.019    -29.161      0.000      -0.601      -0.525\n",
      "C(State)[T.ID]           -2.1240      0.032    -65.996      0.000      -2.187      -2.061\n",
      "C(State)[T.IL]            0.4555      0.020     22.709      0.000       0.416       0.495\n",
      "C(State)[T.IN]            0.4090      0.018     22.784      0.000       0.374       0.444\n",
      "C(State)[T.KS]           -0.6709      0.019    -35.066      0.000      -0.708      -0.633\n",
      "C(State)[T.KY]            0.0143      0.018      0.813      0.416      -0.020       0.049\n",
      "C(State)[T.LA]            0.3669      0.019     18.903      0.000       0.329       0.405\n",
      "C(State)[T.MA]           -0.6050      0.029    -20.796      0.000      -0.662      -0.548\n",
      "C(State)[T.MD]           -0.6994      0.026    -26.976      0.000      -0.750      -0.649\n",
      "C(State)[T.ME]           -1.8806      0.037    -51.507      0.000      -1.952      -1.809\n",
      "C(State)[T.MI]            0.2771      0.017     16.046      0.000       0.243       0.311\n",
      "C(State)[T.MN]           -0.4193      0.019    -22.070      0.000      -0.457      -0.382\n",
      "C(State)[T.MO]           -0.0730      0.016     -4.441      0.000      -0.105      -0.041\n",
      "C(State)[T.MS]           -0.6460      0.018    -36.885      0.000      -0.680      -0.612\n",
      "C(State)[T.MT]           -1.4014      0.015    -92.023      0.000      -1.431      -1.372\n",
      "C(State)[T.NC]           -0.0206      0.017     -1.230      0.219      -0.053       0.012\n",
      "C(State)[T.ND]           -0.9645      0.022    -43.683      0.000      -1.008      -0.921\n",
      "C(State)[T.NE]           -1.1266      0.032    -35.447      0.000      -1.189      -1.064\n",
      "C(State)[T.NH]           -2.0423      0.032    -64.107      0.000      -2.105      -1.980\n",
      "C(State)[T.NJ]           -0.1669      0.026     -6.432      0.000      -0.218      -0.116\n",
      "C(State)[T.NM]           -0.8738      0.016    -54.889      0.000      -0.905      -0.843\n",
      "C(State)[T.NV]           -1.1961      0.020    -60.161      0.000      -1.235      -1.157\n",
      "C(State)[T.NY]            0.3485      0.028     12.544      0.000       0.294       0.403\n",
      "C(State)[T.OH]            0.5497      0.020     27.058      0.000       0.510       0.590\n",
      "C(State)[T.OK]           -0.2802      0.015    -18.649      0.000      -0.310      -0.251\n",
      "C(State)[T.OR]           -1.2426      0.016    -76.104      0.000      -1.275      -1.211\n",
      "C(State)[T.PA]            0.6094      0.021     28.882      0.000       0.568       0.651\n",
      "C(State)[T.RI]           -2.4171      0.032    -76.627      0.000      -2.479      -2.355\n",
      "C(State)[T.SC]           -0.5084      0.017    -30.494      0.000      -0.541      -0.476\n",
      "C(State)[T.SD]           -2.2694      0.022   -102.987      0.000      -2.313      -2.226\n",
      "C(State)[T.TN]           -0.2072      0.020    -10.233      0.000      -0.247      -0.168\n",
      "C(State)[T.TX]            1.5683      0.019     81.087      0.000       1.530       1.606\n",
      "C(State)[T.UT]           -0.7840      0.017    -46.204      0.000      -0.817      -0.751\n",
      "C(State)[T.VA]           -0.2522      0.019    -13.491      0.000      -0.289      -0.216\n",
      "C(State)[T.VT]           -2.9940      0.023   -128.607      0.000      -3.040      -2.948\n",
      "C(State)[T.WA]           -0.6862      0.023    -30.452      0.000      -0.730      -0.642\n",
      "C(State)[T.WI]           -0.3038      0.016    -18.868      0.000      -0.335      -0.272\n",
      "C(State)[T.WV]           -0.2547      0.020    -12.656      0.000      -0.294      -0.215\n",
      "C(State)[T.WY]           -0.8676      0.028    -30.802      0.000      -0.923      -0.812\n",
      "np.log(coal)              0.0158      0.010      1.633      0.102      -0.003       0.035\n",
      "np.log(elec)             -0.2202      0.022    -10.035      0.000      -0.263      -0.177\n",
      "np.log(petro)            -0.0415      0.011     -3.660      0.000      -0.064      -0.019\n",
      "np.log(natur)             0.1060      0.010     10.536      0.000       0.086       0.126\n",
      "np.log(gdppc)             2.7245      0.684      3.985      0.000       1.384       4.065\n",
      "I(np.log(gdppc) ** 2)    -0.3182      0.087     -3.646      0.000      -0.489      -0.147\n",
      "==============================================================================\n",
      "Omnibus:                       25.363   Durbin-Watson:                   0.607\n",
      "Prob(Omnibus):                  0.000   Jarque-Bera (JB):               52.781\n",
      "Skew:                          -0.025   Prob(JB):                     3.46e-12\n",
      "Kurtosis:                       4.070   Cond. No.                     1.03e+04\n",
      "==============================================================================\n",
      "\n",
      "Notes:\n",
      "[1] Standard Errors are heteroscedasticity robust (HC1)\n",
      "[2] The condition number is large, 1.03e+04. This might indicate that there are\n",
      "strong multicollinearity or other numerical problems.\n"
     ]
    }
   ],
   "source": [
    "reg2_co2 = smf.ols(\n",
    "    formula = \"np.log(co2) ~ np.log(coal) + np.log(elec) + np.log(petro) + np.log(natur) + np.log(gdppc) + I(np.log(gdppc) ** 2) + C(State)\", \n",
    "    data = df,\n",
    "    eval_env = 1\n",
    ").fit(cov_type = \"HC1\")\n",
    "\n",
    "print(reg2_co2.summary())"
   ]
  },
  {
   "cell_type": "code",
   "execution_count": 15,
   "id": "dcfe42c2-6c14-41ff-95b7-60d1daf12db7",
   "metadata": {
    "collapsed": true,
    "jupyter": {
     "outputs_hidden": true,
     "source_hidden": true
    }
   },
   "outputs": [
    {
     "name": "stdout",
     "output_type": "stream",
     "text": [
      "                            OLS Regression Results                            \n",
      "==============================================================================\n",
      "Dep. Variable:            np.log(co2)   R-squared:                       0.996\n",
      "Model:                            OLS   Adj. R-squared:                  0.996\n",
      "Method:                 Least Squares   F-statistic:                     4971.\n",
      "Date:                Mon, 24 Mar 2025   Prob (F-statistic):               0.00\n",
      "Time:                        02:53:12   Log-Likelihood:                 1521.8\n",
      "No. Observations:                1104   AIC:                            -2892.\n",
      "Df Residuals:                    1028   BIC:                            -2511.\n",
      "Df Model:                          75                                         \n",
      "Covariance Type:                  HC1                                         \n",
      "=========================================================================================\n",
      "                            coef    std err          z      P>|z|      [0.025      0.975]\n",
      "-----------------------------------------------------------------------------------------\n",
      "Intercept                 1.2396      1.335      0.928      0.353      -1.377       3.856\n",
      "C(State)[T.AR]           -0.6708      0.021    -31.531      0.000      -0.712      -0.629\n",
      "C(State)[T.AZ]           -0.3400      0.025    -13.774      0.000      -0.388      -0.292\n",
      "C(State)[T.CA]            0.9666      0.026     37.194      0.000       0.916       1.018\n",
      "C(State)[T.CO]           -0.4566      0.024    -19.318      0.000      -0.503      -0.410\n",
      "C(State)[T.CT]           -1.3293      0.031    -42.608      0.000      -1.390      -1.268\n",
      "C(State)[T.DE]           -2.3087      0.028    -82.427      0.000      -2.364      -2.254\n",
      "C(State)[T.FL]            0.5415      0.022     24.851      0.000       0.499       0.584\n",
      "C(State)[T.GA]            0.1193      0.022      5.524      0.000       0.077       0.162\n",
      "C(State)[T.IA]           -0.5422      0.019    -28.181      0.000      -0.580      -0.505\n",
      "C(State)[T.ID]           -2.0342      0.034    -60.193      0.000      -2.100      -1.968\n",
      "C(State)[T.IL]            0.4681      0.021     22.461      0.000       0.427       0.509\n",
      "C(State)[T.IN]            0.4394      0.020     22.480      0.000       0.401       0.478\n",
      "C(State)[T.KS]           -0.6634      0.020    -33.911      0.000      -0.702      -0.625\n",
      "C(State)[T.KY]            0.0621      0.020      3.133      0.002       0.023       0.101\n",
      "C(State)[T.LA]            0.2203      0.024      9.055      0.000       0.173       0.268\n",
      "C(State)[T.MA]           -0.6675      0.032    -20.944      0.000      -0.730      -0.605\n",
      "C(State)[T.MD]           -0.6700      0.028    -24.247      0.000      -0.724      -0.616\n",
      "C(State)[T.ME]           -1.9254      0.026    -74.077      0.000      -1.976      -1.874\n",
      "C(State)[T.MI]            0.2793      0.018     15.651      0.000       0.244       0.314\n",
      "C(State)[T.MN]           -0.4162      0.020    -21.020      0.000      -0.455      -0.377\n",
      "C(State)[T.MO]           -0.0170      0.019     -0.903      0.366      -0.054       0.020\n",
      "C(State)[T.MS]           -0.6860      0.021    -32.963      0.000      -0.727      -0.645\n",
      "C(State)[T.MT]           -1.3655      0.017    -82.401      0.000      -1.398      -1.333\n",
      "C(State)[T.NC]            0.0247      0.019      1.308      0.191      -0.012       0.062\n",
      "C(State)[T.ND]           -0.9787      0.020    -48.103      0.000      -1.019      -0.939\n",
      "C(State)[T.NE]           -1.1067      0.030    -37.094      0.000      -1.165      -1.048\n",
      "C(State)[T.NH]           -2.0959      0.030    -68.800      0.000      -2.156      -2.036\n",
      "C(State)[T.NJ]           -0.2608      0.026     -9.862      0.000      -0.313      -0.209\n",
      "C(State)[T.NM]           -0.8798      0.018    -48.002      0.000      -0.916      -0.844\n",
      "C(State)[T.NV]           -1.2173      0.023    -54.026      0.000      -1.261      -1.173\n",
      "C(State)[T.NY]            0.2412      0.031      7.878      0.000       0.181       0.301\n",
      "C(State)[T.OH]            0.5830      0.023     25.645      0.000       0.538       0.628\n",
      "C(State)[T.OK]           -0.2777      0.017    -16.682      0.000      -0.310      -0.245\n",
      "C(State)[T.OR]           -1.1939      0.019    -62.397      0.000      -1.231      -1.156\n",
      "C(State)[T.PA]            0.6374      0.022     28.699      0.000       0.594       0.681\n",
      "C(State)[T.RI]           -2.4607      0.033    -73.557      0.000      -2.526      -2.395\n",
      "C(State)[T.SC]           -0.5012      0.017    -29.166      0.000      -0.535      -0.468\n",
      "C(State)[T.SD]           -2.2562      0.023    -99.572      0.000      -2.301      -2.212\n",
      "C(State)[T.TN]           -0.1779      0.023     -7.814      0.000      -0.223      -0.133\n",
      "C(State)[T.TX]            1.4164      0.024     59.986      0.000       1.370       1.463\n",
      "C(State)[T.UT]           -0.7407      0.018    -41.629      0.000      -0.776      -0.706\n",
      "C(State)[T.VA]           -0.2366      0.021    -11.376      0.000      -0.277      -0.196\n",
      "C(State)[T.VT]           -2.9940      0.023   -128.497      0.000      -3.040      -2.948\n",
      "C(State)[T.WA]           -0.6281      0.024    -25.836      0.000      -0.676      -0.580\n",
      "C(State)[T.WI]           -0.2797      0.018    -15.373      0.000      -0.315      -0.244\n",
      "C(State)[T.WV]           -0.1649      0.021     -7.754      0.000      -0.207      -0.123\n",
      "C(State)[T.WY]           -0.8628      0.027    -32.222      0.000      -0.915      -0.810\n",
      "C(Year)[T.1998]          -0.0707      0.018     -3.889      0.000      -0.106      -0.035\n",
      "C(Year)[T.1999]          -0.0300      0.016     -1.872      0.061      -0.061       0.001\n",
      "C(Year)[T.2000]           0.1264      0.020      6.307      0.000       0.087       0.166\n",
      "C(Year)[T.2001]           0.1104      0.020      5.639      0.000       0.072       0.149\n",
      "C(Year)[T.2002]           0.0648      0.018      3.653      0.000       0.030       0.100\n",
      "C(Year)[T.2003]           0.1527      0.024      6.341      0.000       0.106       0.200\n",
      "C(Year)[T.2004]           0.2397      0.032      7.523      0.000       0.177       0.302\n",
      "C(Year)[T.2005]           0.3505      0.044      7.981      0.000       0.264       0.437\n",
      "C(Year)[T.2006]           0.3822      0.050      7.589      0.000       0.283       0.481\n",
      "C(Year)[T.2007]           0.4347      0.054      8.012      0.000       0.328       0.541\n",
      "C(Year)[T.2008]           0.5047      0.066      7.690      0.000       0.376       0.633\n",
      "C(Year)[T.2009]           0.2862      0.046      6.164      0.000       0.195       0.377\n",
      "C(Year)[T.2010]           0.3806      0.056      6.812      0.000       0.271       0.490\n",
      "C(Year)[T.2011]           0.4449      0.068      6.529      0.000       0.311       0.578\n",
      "C(Year)[T.2012]           0.3963      0.069      5.740      0.000       0.261       0.532\n",
      "C(Year)[T.2013]           0.4180      0.068      6.125      0.000       0.284       0.552\n",
      "C(Year)[T.2014]           0.4207      0.067      6.286      0.000       0.289       0.552\n",
      "C(Year)[T.2015]           0.2347      0.049      4.748      0.000       0.138       0.332\n",
      "C(Year)[T.2016]           0.1496      0.043      3.504      0.000       0.066       0.233\n",
      "C(Year)[T.2017]           0.1970      0.049      4.037      0.000       0.101       0.293\n",
      "C(Year)[T.2018]           0.2775      0.056      4.945      0.000       0.168       0.388\n",
      "C(Year)[T.2019]           0.2224      0.052      4.298      0.000       0.121       0.324\n",
      "np.log(coal)              0.0127      0.009      1.351      0.177      -0.006       0.031\n",
      "np.log(elec)             -0.0199      0.027     -0.737      0.461      -0.073       0.033\n",
      "np.log(petro)            -0.4108      0.055     -7.526      0.000      -0.518      -0.304\n",
      "np.log(natur)            -0.0759      0.021     -3.580      0.000      -0.117      -0.034\n",
      "np.log(gdppc)             2.1388      0.672      3.183      0.001       0.822       3.456\n",
      "I(np.log(gdppc) ** 2)    -0.2333      0.085     -2.731      0.006      -0.401      -0.066\n",
      "==============================================================================\n",
      "Omnibus:                       16.752   Durbin-Watson:                   0.564\n",
      "Prob(Omnibus):                  0.000   Jarque-Bera (JB):               25.747\n",
      "Skew:                           0.120   Prob(JB):                     2.57e-06\n",
      "Kurtosis:                       3.709   Cond. No.                     1.12e+04\n",
      "==============================================================================\n",
      "\n",
      "Notes:\n",
      "[1] Standard Errors are heteroscedasticity robust (HC1)\n",
      "[2] The condition number is large, 1.12e+04. This might indicate that there are\n",
      "strong multicollinearity or other numerical problems.\n"
     ]
    }
   ],
   "source": [
    "reg3_co2 = smf.ols(\n",
    "    formula = \"np.log(co2) ~ np.log(coal) + np.log(elec) + np.log(petro) + np.log(natur) + np.log(gdppc) + I(np.log(gdppc) ** 2) + C(State) + C(Year)\", \n",
    "    data = df,\n",
    "    eval_env = 1\n",
    ").fit(cov_type = \"HC1\")\n",
    "\n",
    "print(reg3_co2.summary())"
   ]
  },
  {
   "cell_type": "code",
   "execution_count": 17,
   "id": "26e5c644-13f7-40c2-9dec-f758334616af",
   "metadata": {
    "collapsed": true,
    "jupyter": {
     "outputs_hidden": true,
     "source_hidden": true
    }
   },
   "outputs": [
    {
     "data": {
      "text/html": [
       "<table style=\"text-align:center\"><tr><td colspan=\"4\" style=\"border-bottom: 1px solid black\"></td></tr>\n",
       "<tr><td style=\"text-align:left\"></td><td colspan=\"3\"><em>Dependent variable: np.log(co2)</em></td></tr><tr><td style=\"text-align:left\"></td><tr><td style=\"text-align:left\"></td><td>(1)</td><td>(2)</td><td>(3)</td></tr>\n",
       "<tr><td colspan=\"4\" style=\"border-bottom: 1px solid black\"></td></tr>\n",
       "\n",
       "<tr><td style=\"text-align:left\">C(State)[T.AR]</td><td></td><td>-0.713<sup>***</sup></td><td>-0.671<sup>***</sup></td></tr>\n",
       "<tr><td style=\"text-align:left\"></td><td></td><td>(0.018)</td><td>(0.021)</td></tr>\n",
       "<tr><td style=\"text-align:left\">C(State)[T.AZ]</td><td></td><td>-0.338<sup>***</sup></td><td>-0.340<sup>***</sup></td></tr>\n",
       "<tr><td style=\"text-align:left\"></td><td></td><td>(0.025)</td><td>(0.025)</td></tr>\n",
       "<tr><td style=\"text-align:left\">C(State)[T.CA]</td><td></td><td>1.038<sup>***</sup></td><td>0.967<sup>***</sup></td></tr>\n",
       "<tr><td style=\"text-align:left\"></td><td></td><td>(0.021)</td><td>(0.026)</td></tr>\n",
       "<tr><td style=\"text-align:left\">C(State)[T.CO]</td><td></td><td>-0.442<sup>***</sup></td><td>-0.457<sup>***</sup></td></tr>\n",
       "<tr><td style=\"text-align:left\"></td><td></td><td>(0.025)</td><td>(0.024)</td></tr>\n",
       "<tr><td style=\"text-align:left\">C(State)[T.CT]</td><td></td><td>-1.245<sup>***</sup></td><td>-1.329<sup>***</sup></td></tr>\n",
       "<tr><td style=\"text-align:left\"></td><td></td><td>(0.026)</td><td>(0.031)</td></tr>\n",
       "<tr><td style=\"text-align:left\">C(State)[T.DE]</td><td></td><td>-2.262<sup>***</sup></td><td>-2.309<sup>***</sup></td></tr>\n",
       "<tr><td style=\"text-align:left\"></td><td></td><td>(0.028)</td><td>(0.028)</td></tr>\n",
       "<tr><td style=\"text-align:left\">C(State)[T.FL]</td><td></td><td>0.617<sup>***</sup></td><td>0.541<sup>***</sup></td></tr>\n",
       "<tr><td style=\"text-align:left\"></td><td></td><td>(0.016)</td><td>(0.022)</td></tr>\n",
       "<tr><td style=\"text-align:left\">C(State)[T.GA]</td><td></td><td>0.123<sup>***</sup></td><td>0.119<sup>***</sup></td></tr>\n",
       "<tr><td style=\"text-align:left\"></td><td></td><td>(0.019)</td><td>(0.022)</td></tr>\n",
       "<tr><td style=\"text-align:left\">C(State)[T.IA]</td><td></td><td>-0.563<sup>***</sup></td><td>-0.542<sup>***</sup></td></tr>\n",
       "<tr><td style=\"text-align:left\"></td><td></td><td>(0.019)</td><td>(0.019)</td></tr>\n",
       "<tr><td style=\"text-align:left\">C(State)[T.ID]</td><td></td><td>-2.124<sup>***</sup></td><td>-2.034<sup>***</sup></td></tr>\n",
       "<tr><td style=\"text-align:left\"></td><td></td><td>(0.032)</td><td>(0.034)</td></tr>\n",
       "<tr><td style=\"text-align:left\">C(State)[T.IL]</td><td></td><td>0.456<sup>***</sup></td><td>0.468<sup>***</sup></td></tr>\n",
       "<tr><td style=\"text-align:left\"></td><td></td><td>(0.020)</td><td>(0.021)</td></tr>\n",
       "<tr><td style=\"text-align:left\">C(State)[T.IN]</td><td></td><td>0.409<sup>***</sup></td><td>0.439<sup>***</sup></td></tr>\n",
       "<tr><td style=\"text-align:left\"></td><td></td><td>(0.018)</td><td>(0.020)</td></tr>\n",
       "<tr><td style=\"text-align:left\">C(State)[T.KS]</td><td></td><td>-0.671<sup>***</sup></td><td>-0.663<sup>***</sup></td></tr>\n",
       "<tr><td style=\"text-align:left\"></td><td></td><td>(0.019)</td><td>(0.020)</td></tr>\n",
       "<tr><td style=\"text-align:left\">C(State)[T.KY]</td><td></td><td>0.014<sup></sup></td><td>0.062<sup>***</sup></td></tr>\n",
       "<tr><td style=\"text-align:left\"></td><td></td><td>(0.018)</td><td>(0.020)</td></tr>\n",
       "<tr><td style=\"text-align:left\">C(State)[T.LA]</td><td></td><td>0.367<sup>***</sup></td><td>0.220<sup>***</sup></td></tr>\n",
       "<tr><td style=\"text-align:left\"></td><td></td><td>(0.019)</td><td>(0.024)</td></tr>\n",
       "<tr><td style=\"text-align:left\">C(State)[T.MA]</td><td></td><td>-0.605<sup>***</sup></td><td>-0.668<sup>***</sup></td></tr>\n",
       "<tr><td style=\"text-align:left\"></td><td></td><td>(0.029)</td><td>(0.032)</td></tr>\n",
       "<tr><td style=\"text-align:left\">C(State)[T.MD]</td><td></td><td>-0.699<sup>***</sup></td><td>-0.670<sup>***</sup></td></tr>\n",
       "<tr><td style=\"text-align:left\"></td><td></td><td>(0.026)</td><td>(0.028)</td></tr>\n",
       "<tr><td style=\"text-align:left\">C(State)[T.ME]</td><td></td><td>-1.881<sup>***</sup></td><td>-1.925<sup>***</sup></td></tr>\n",
       "<tr><td style=\"text-align:left\"></td><td></td><td>(0.037)</td><td>(0.026)</td></tr>\n",
       "<tr><td style=\"text-align:left\">C(State)[T.MI]</td><td></td><td>0.277<sup>***</sup></td><td>0.279<sup>***</sup></td></tr>\n",
       "<tr><td style=\"text-align:left\"></td><td></td><td>(0.017)</td><td>(0.018)</td></tr>\n",
       "<tr><td style=\"text-align:left\">C(State)[T.MN]</td><td></td><td>-0.419<sup>***</sup></td><td>-0.416<sup>***</sup></td></tr>\n",
       "<tr><td style=\"text-align:left\"></td><td></td><td>(0.019)</td><td>(0.020)</td></tr>\n",
       "<tr><td style=\"text-align:left\">C(State)[T.MO]</td><td></td><td>-0.073<sup>***</sup></td><td>-0.017<sup></sup></td></tr>\n",
       "<tr><td style=\"text-align:left\"></td><td></td><td>(0.016)</td><td>(0.019)</td></tr>\n",
       "<tr><td style=\"text-align:left\">C(State)[T.MS]</td><td></td><td>-0.646<sup>***</sup></td><td>-0.686<sup>***</sup></td></tr>\n",
       "<tr><td style=\"text-align:left\"></td><td></td><td>(0.018)</td><td>(0.021)</td></tr>\n",
       "<tr><td style=\"text-align:left\">C(State)[T.MT]</td><td></td><td>-1.401<sup>***</sup></td><td>-1.365<sup>***</sup></td></tr>\n",
       "<tr><td style=\"text-align:left\"></td><td></td><td>(0.015)</td><td>(0.017)</td></tr>\n",
       "<tr><td style=\"text-align:left\">C(State)[T.NC]</td><td></td><td>-0.021<sup></sup></td><td>0.025<sup></sup></td></tr>\n",
       "<tr><td style=\"text-align:left\"></td><td></td><td>(0.017)</td><td>(0.019)</td></tr>\n",
       "<tr><td style=\"text-align:left\">C(State)[T.ND]</td><td></td><td>-0.965<sup>***</sup></td><td>-0.979<sup>***</sup></td></tr>\n",
       "<tr><td style=\"text-align:left\"></td><td></td><td>(0.022)</td><td>(0.020)</td></tr>\n",
       "<tr><td style=\"text-align:left\">C(State)[T.NE]</td><td></td><td>-1.127<sup>***</sup></td><td>-1.107<sup>***</sup></td></tr>\n",
       "<tr><td style=\"text-align:left\"></td><td></td><td>(0.032)</td><td>(0.030)</td></tr>\n",
       "<tr><td style=\"text-align:left\">C(State)[T.NH]</td><td></td><td>-2.042<sup>***</sup></td><td>-2.096<sup>***</sup></td></tr>\n",
       "<tr><td style=\"text-align:left\"></td><td></td><td>(0.032)</td><td>(0.030)</td></tr>\n",
       "<tr><td style=\"text-align:left\">C(State)[T.NJ]</td><td></td><td>-0.167<sup>***</sup></td><td>-0.261<sup>***</sup></td></tr>\n",
       "<tr><td style=\"text-align:left\"></td><td></td><td>(0.026)</td><td>(0.026)</td></tr>\n",
       "<tr><td style=\"text-align:left\">C(State)[T.NM]</td><td></td><td>-0.874<sup>***</sup></td><td>-0.880<sup>***</sup></td></tr>\n",
       "<tr><td style=\"text-align:left\"></td><td></td><td>(0.016)</td><td>(0.018)</td></tr>\n",
       "<tr><td style=\"text-align:left\">C(State)[T.NV]</td><td></td><td>-1.196<sup>***</sup></td><td>-1.217<sup>***</sup></td></tr>\n",
       "<tr><td style=\"text-align:left\"></td><td></td><td>(0.020)</td><td>(0.023)</td></tr>\n",
       "<tr><td style=\"text-align:left\">C(State)[T.NY]</td><td></td><td>0.348<sup>***</sup></td><td>0.241<sup>***</sup></td></tr>\n",
       "<tr><td style=\"text-align:left\"></td><td></td><td>(0.028)</td><td>(0.031)</td></tr>\n",
       "<tr><td style=\"text-align:left\">C(State)[T.OH]</td><td></td><td>0.550<sup>***</sup></td><td>0.583<sup>***</sup></td></tr>\n",
       "<tr><td style=\"text-align:left\"></td><td></td><td>(0.020)</td><td>(0.023)</td></tr>\n",
       "<tr><td style=\"text-align:left\">C(State)[T.OK]</td><td></td><td>-0.280<sup>***</sup></td><td>-0.278<sup>***</sup></td></tr>\n",
       "<tr><td style=\"text-align:left\"></td><td></td><td>(0.015)</td><td>(0.017)</td></tr>\n",
       "<tr><td style=\"text-align:left\">C(State)[T.OR]</td><td></td><td>-1.243<sup>***</sup></td><td>-1.194<sup>***</sup></td></tr>\n",
       "<tr><td style=\"text-align:left\"></td><td></td><td>(0.016)</td><td>(0.019)</td></tr>\n",
       "<tr><td style=\"text-align:left\">C(State)[T.PA]</td><td></td><td>0.609<sup>***</sup></td><td>0.637<sup>***</sup></td></tr>\n",
       "<tr><td style=\"text-align:left\"></td><td></td><td>(0.021)</td><td>(0.022)</td></tr>\n",
       "<tr><td style=\"text-align:left\">C(State)[T.RI]</td><td></td><td>-2.417<sup>***</sup></td><td>-2.461<sup>***</sup></td></tr>\n",
       "<tr><td style=\"text-align:left\"></td><td></td><td>(0.032)</td><td>(0.033)</td></tr>\n",
       "<tr><td style=\"text-align:left\">C(State)[T.SC]</td><td></td><td>-0.508<sup>***</sup></td><td>-0.501<sup>***</sup></td></tr>\n",
       "<tr><td style=\"text-align:left\"></td><td></td><td>(0.017)</td><td>(0.017)</td></tr>\n",
       "<tr><td style=\"text-align:left\">C(State)[T.SD]</td><td></td><td>-2.269<sup>***</sup></td><td>-2.256<sup>***</sup></td></tr>\n",
       "<tr><td style=\"text-align:left\"></td><td></td><td>(0.022)</td><td>(0.023)</td></tr>\n",
       "<tr><td style=\"text-align:left\">C(State)[T.TN]</td><td></td><td>-0.207<sup>***</sup></td><td>-0.178<sup>***</sup></td></tr>\n",
       "<tr><td style=\"text-align:left\"></td><td></td><td>(0.020)</td><td>(0.023)</td></tr>\n",
       "<tr><td style=\"text-align:left\">C(State)[T.TX]</td><td></td><td>1.568<sup>***</sup></td><td>1.416<sup>***</sup></td></tr>\n",
       "<tr><td style=\"text-align:left\"></td><td></td><td>(0.019)</td><td>(0.024)</td></tr>\n",
       "<tr><td style=\"text-align:left\">C(State)[T.UT]</td><td></td><td>-0.784<sup>***</sup></td><td>-0.741<sup>***</sup></td></tr>\n",
       "<tr><td style=\"text-align:left\"></td><td></td><td>(0.017)</td><td>(0.018)</td></tr>\n",
       "<tr><td style=\"text-align:left\">C(State)[T.VA]</td><td></td><td>-0.252<sup>***</sup></td><td>-0.237<sup>***</sup></td></tr>\n",
       "<tr><td style=\"text-align:left\"></td><td></td><td>(0.019)</td><td>(0.021)</td></tr>\n",
       "<tr><td style=\"text-align:left\">C(State)[T.VT]</td><td></td><td>-2.994<sup>***</sup></td><td>-2.994<sup>***</sup></td></tr>\n",
       "<tr><td style=\"text-align:left\"></td><td></td><td>(0.023)</td><td>(0.023)</td></tr>\n",
       "<tr><td style=\"text-align:left\">C(State)[T.WA]</td><td></td><td>-0.686<sup>***</sup></td><td>-0.628<sup>***</sup></td></tr>\n",
       "<tr><td style=\"text-align:left\"></td><td></td><td>(0.023)</td><td>(0.024)</td></tr>\n",
       "<tr><td style=\"text-align:left\">C(State)[T.WI]</td><td></td><td>-0.304<sup>***</sup></td><td>-0.280<sup>***</sup></td></tr>\n",
       "<tr><td style=\"text-align:left\"></td><td></td><td>(0.016)</td><td>(0.018)</td></tr>\n",
       "<tr><td style=\"text-align:left\">C(State)[T.WV]</td><td></td><td>-0.255<sup>***</sup></td><td>-0.165<sup>***</sup></td></tr>\n",
       "<tr><td style=\"text-align:left\"></td><td></td><td>(0.020)</td><td>(0.021)</td></tr>\n",
       "<tr><td style=\"text-align:left\">C(State)[T.WY]</td><td></td><td>-0.868<sup>***</sup></td><td>-0.863<sup>***</sup></td></tr>\n",
       "<tr><td style=\"text-align:left\"></td><td></td><td>(0.028)</td><td>(0.027)</td></tr>\n",
       "<tr><td style=\"text-align:left\">C(Year)[T.1998]</td><td></td><td></td><td>-0.071<sup>***</sup></td></tr>\n",
       "<tr><td style=\"text-align:left\"></td><td></td><td></td><td>(0.018)</td></tr>\n",
       "<tr><td style=\"text-align:left\">C(Year)[T.1999]</td><td></td><td></td><td>-0.030<sup>*</sup></td></tr>\n",
       "<tr><td style=\"text-align:left\"></td><td></td><td></td><td>(0.016)</td></tr>\n",
       "<tr><td style=\"text-align:left\">C(Year)[T.2000]</td><td></td><td></td><td>0.126<sup>***</sup></td></tr>\n",
       "<tr><td style=\"text-align:left\"></td><td></td><td></td><td>(0.020)</td></tr>\n",
       "<tr><td style=\"text-align:left\">C(Year)[T.2001]</td><td></td><td></td><td>0.110<sup>***</sup></td></tr>\n",
       "<tr><td style=\"text-align:left\"></td><td></td><td></td><td>(0.020)</td></tr>\n",
       "<tr><td style=\"text-align:left\">C(Year)[T.2002]</td><td></td><td></td><td>0.065<sup>***</sup></td></tr>\n",
       "<tr><td style=\"text-align:left\"></td><td></td><td></td><td>(0.018)</td></tr>\n",
       "<tr><td style=\"text-align:left\">C(Year)[T.2003]</td><td></td><td></td><td>0.153<sup>***</sup></td></tr>\n",
       "<tr><td style=\"text-align:left\"></td><td></td><td></td><td>(0.024)</td></tr>\n",
       "<tr><td style=\"text-align:left\">C(Year)[T.2004]</td><td></td><td></td><td>0.240<sup>***</sup></td></tr>\n",
       "<tr><td style=\"text-align:left\"></td><td></td><td></td><td>(0.032)</td></tr>\n",
       "<tr><td style=\"text-align:left\">C(Year)[T.2005]</td><td></td><td></td><td>0.351<sup>***</sup></td></tr>\n",
       "<tr><td style=\"text-align:left\"></td><td></td><td></td><td>(0.044)</td></tr>\n",
       "<tr><td style=\"text-align:left\">C(Year)[T.2006]</td><td></td><td></td><td>0.382<sup>***</sup></td></tr>\n",
       "<tr><td style=\"text-align:left\"></td><td></td><td></td><td>(0.050)</td></tr>\n",
       "<tr><td style=\"text-align:left\">C(Year)[T.2007]</td><td></td><td></td><td>0.435<sup>***</sup></td></tr>\n",
       "<tr><td style=\"text-align:left\"></td><td></td><td></td><td>(0.054)</td></tr>\n",
       "<tr><td style=\"text-align:left\">C(Year)[T.2008]</td><td></td><td></td><td>0.505<sup>***</sup></td></tr>\n",
       "<tr><td style=\"text-align:left\"></td><td></td><td></td><td>(0.066)</td></tr>\n",
       "<tr><td style=\"text-align:left\">C(Year)[T.2009]</td><td></td><td></td><td>0.286<sup>***</sup></td></tr>\n",
       "<tr><td style=\"text-align:left\"></td><td></td><td></td><td>(0.046)</td></tr>\n",
       "<tr><td style=\"text-align:left\">C(Year)[T.2010]</td><td></td><td></td><td>0.381<sup>***</sup></td></tr>\n",
       "<tr><td style=\"text-align:left\"></td><td></td><td></td><td>(0.056)</td></tr>\n",
       "<tr><td style=\"text-align:left\">C(Year)[T.2011]</td><td></td><td></td><td>0.445<sup>***</sup></td></tr>\n",
       "<tr><td style=\"text-align:left\"></td><td></td><td></td><td>(0.068)</td></tr>\n",
       "<tr><td style=\"text-align:left\">C(Year)[T.2012]</td><td></td><td></td><td>0.396<sup>***</sup></td></tr>\n",
       "<tr><td style=\"text-align:left\"></td><td></td><td></td><td>(0.069)</td></tr>\n",
       "<tr><td style=\"text-align:left\">C(Year)[T.2013]</td><td></td><td></td><td>0.418<sup>***</sup></td></tr>\n",
       "<tr><td style=\"text-align:left\"></td><td></td><td></td><td>(0.068)</td></tr>\n",
       "<tr><td style=\"text-align:left\">C(Year)[T.2014]</td><td></td><td></td><td>0.421<sup>***</sup></td></tr>\n",
       "<tr><td style=\"text-align:left\"></td><td></td><td></td><td>(0.067)</td></tr>\n",
       "<tr><td style=\"text-align:left\">C(Year)[T.2015]</td><td></td><td></td><td>0.235<sup>***</sup></td></tr>\n",
       "<tr><td style=\"text-align:left\"></td><td></td><td></td><td>(0.049)</td></tr>\n",
       "<tr><td style=\"text-align:left\">C(Year)[T.2016]</td><td></td><td></td><td>0.150<sup>***</sup></td></tr>\n",
       "<tr><td style=\"text-align:left\"></td><td></td><td></td><td>(0.043)</td></tr>\n",
       "<tr><td style=\"text-align:left\">C(Year)[T.2017]</td><td></td><td></td><td>0.197<sup>***</sup></td></tr>\n",
       "<tr><td style=\"text-align:left\"></td><td></td><td></td><td>(0.049)</td></tr>\n",
       "<tr><td style=\"text-align:left\">C(Year)[T.2018]</td><td></td><td></td><td>0.278<sup>***</sup></td></tr>\n",
       "<tr><td style=\"text-align:left\"></td><td></td><td></td><td>(0.056)</td></tr>\n",
       "<tr><td style=\"text-align:left\">C(Year)[T.2019]</td><td></td><td></td><td>0.222<sup>***</sup></td></tr>\n",
       "<tr><td style=\"text-align:left\"></td><td></td><td></td><td>(0.052)</td></tr>\n",
       "<tr><td style=\"text-align:left\">I(np.log(gdppc) ** 2)</td><td>-5.389<sup>***</sup></td><td>-0.318<sup>***</sup></td><td>-0.233<sup>***</sup></td></tr>\n",
       "<tr><td style=\"text-align:left\"></td><td>(0.593)</td><td>(0.087)</td><td>(0.085)</td></tr>\n",
       "<tr><td style=\"text-align:left\">Intercept</td><td>-76.558<sup>***</sup></td><td>-0.240<sup></sup></td><td>1.240<sup></sup></td></tr>\n",
       "<tr><td style=\"text-align:left\"></td><td>(8.865)</td><td>(1.333)</td><td>(1.335)</td></tr>\n",
       "<tr><td style=\"text-align:left\">np.log(coal)</td><td>0.705<sup>***</sup></td><td>0.016<sup></sup></td><td>0.013<sup></sup></td></tr>\n",
       "<tr><td style=\"text-align:left\"></td><td>(0.067)</td><td>(0.010)</td><td>(0.009)</td></tr>\n",
       "<tr><td style=\"text-align:left\">np.log(elec)</td><td>-1.088<sup>***</sup></td><td>-0.220<sup>***</sup></td><td>-0.020<sup></sup></td></tr>\n",
       "<tr><td style=\"text-align:left\"></td><td>(0.129)</td><td>(0.022)</td><td>(0.027)</td></tr>\n",
       "<tr><td style=\"text-align:left\">np.log(gdppc)</td><td>42.890<sup>***</sup></td><td>2.725<sup>***</sup></td><td>2.139<sup>***</sup></td></tr>\n",
       "<tr><td style=\"text-align:left\"></td><td>(4.587)</td><td>(0.684)</td><td>(0.672)</td></tr>\n",
       "<tr><td style=\"text-align:left\">np.log(natur)</td><td>-0.224<sup>**</sup></td><td>0.106<sup>***</sup></td><td>-0.076<sup>***</sup></td></tr>\n",
       "<tr><td style=\"text-align:left\"></td><td>(0.096)</td><td>(0.010)</td><td>(0.021)</td></tr>\n",
       "<tr><td style=\"text-align:left\">np.log(petro)</td><td>-0.247<sup>***</sup></td><td>-0.041<sup>***</sup></td><td>-0.411<sup>***</sup></td></tr>\n",
       "<tr><td style=\"text-align:left\"></td><td>(0.086)</td><td>(0.011)</td><td>(0.055)</td></tr>\n",
       "\n",
       "<td colspan=\"4\" style=\"border-bottom: 1px solid black\"></td></tr>\n",
       "<tr><td style=\"text-align: left\">Observations</td><td>1104</td><td>1104</td><td>1104</td></tr><tr><td style=\"text-align: left\">R<sup>2</sup></td><td>0.165</td><td>0.995</td><td>0.996</td></tr><tr><td style=\"text-align: left\">Adjusted R<sup>2</sup></td><td>0.161</td><td>0.995</td><td>0.996</td></tr><tr><td style=\"text-align: left\">Residual Std. Error</td><td>0.873 (df=1097)</td><td>0.070 (df=1050)</td><td>0.063 (df=1028)</td></tr><tr><td style=\"text-align: left\">F Statistic</td><td>44.769<sup>***</sup> (df=6; 1097)</td><td>6692.865<sup>***</sup> (df=53; 1050)</td><td>4971.124<sup>***</sup> (df=75; 1028)</td></tr>\n",
       "<tr><td colspan=\"4\" style=\"border-bottom: 1px solid black\"></td></tr><tr><td style=\"text-align: left\">Note:</td><td colspan=\"3\" style=\"text-align: right\"><sup>*</sup>p&lt;0.1; <sup>**</sup>p&lt;0.05; <sup>***</sup>p&lt;0.01</td></tr></table>"
      ],
      "text/plain": [
       "<stargazer.stargazer.Stargazer at 0x183b3a000>"
      ]
     },
     "metadata": {},
     "output_type": "display_data"
    }
   ],
   "source": [
    "from stargazer.stargazer import Stargazer\n",
    "\n",
    "table = Stargazer([reg1_co2, reg2_co2, reg3_co2])\n",
    "table.significant_digits(3)\n",
    "\n",
    "display(table)"
   ]
  },
  {
   "cell_type": "code",
   "execution_count": null,
   "id": "3db2c62e-be7b-4bf5-af4c-d9362fbddf3a",
   "metadata": {},
   "outputs": [],
   "source": [
    "INTERPRETATION"
   ]
  },
  {
   "cell_type": "code",
   "execution_count": null,
   "id": "dab9db9e-accf-46db-8279-fd6752697494",
   "metadata": {},
   "outputs": [],
   "source": [
    "    The results follow Economic Theory except for the coal and natur regressor. Although all the regressors signs (+ or -) follow \n",
    "Economic Theory, the coal and natur regressors should have a negative relationship (instead of a positive one) with emissons. As prices \n",
    "increase, there will be less buyers, or entities would prefer to save there energy due to the the increase in price, thus co2 emissions \n",
    "should fall. This may also indicate there are potential hidden Time Fixed Effects."
   ]
  },
  {
   "cell_type": "code",
   "execution_count": null,
   "id": "a3e624f4-53fc-47c3-bb49-33eedf8d01c3",
   "metadata": {},
   "outputs": [],
   "source": [
    "    Including log(gdppc)^2 is essential to the regression. While log(gdppc) covers the linear relationship between income and emissions,\n",
    "it does not measure how that relationship might change as income increases. log(gdppc)^2 accounts for this by determing whether or \n",
    "not the effect of income of emissions changes past a certain level. For example As gdppc increases, governments might invest in cleaner \n",
    "energy and environmental protection, reducing emissions."
   ]
  },
  {
   "cell_type": "code",
   "execution_count": null,
   "id": "c0077f94-8c06-4d54-a106-241357d549d7",
   "metadata": {},
   "outputs": [],
   "source": [
    "    Based on the OLS results, the implied shape of the model is an inverted U. This is the case since log(gdppc) is postive, but log(gdppc)^2 is \n",
    "negative. In real-world terms, this means that income does in fact increase emissions, but only up to a certain point, after which, \n",
    "emissions start to decline. \n",
    "    Based on the p-value of log(gdppc)^2 (.087), at a 5% statistical significance level, we fail to reject the null hypothesis. "
   ]
  },
  {
   "cell_type": "code",
   "execution_count": 18,
   "id": "1f0c0342-e95f-4691-8244-eb8e9cb96b85",
   "metadata": {
    "collapsed": true,
    "jupyter": {
     "outputs_hidden": true,
     "source_hidden": true
    }
   },
   "outputs": [
    {
     "name": "stdout",
     "output_type": "stream",
     "text": [
      "<F test: F=134.84009056010763, p=5.443527997442159e-93, df_denom=1.05e+03, df_num=4>\n"
     ]
    }
   ],
   "source": [
    "hypothesis = 'np.log(coal) = 0, np.log(elec) = 0, np.log(petro) = 0, np.log(natur) = 0'\n",
    "joint_test = reg2_co2.f_test(hypothesis)\n",
    "\n",
    "print(joint_test)"
   ]
  },
  {
   "cell_type": "code",
   "execution_count": null,
   "id": "7647c73b-6224-4bb5-86b6-293f6b146f1a",
   "metadata": {},
   "outputs": [],
   "source": [
    "The joint F-test strongly rejects the null hypothesis at the 5% significance level. This means that the energy price variables are \n",
    "jointly statistically significant predictors of CO₂ emissions."
   ]
  }
 ],
 "metadata": {
  "kernelspec": {
   "display_name": "Python 3 (ipykernel)",
   "language": "python",
   "name": "python3"
  },
  "language_info": {
   "codemirror_mode": {
    "name": "ipython",
    "version": 3
   },
   "file_extension": ".py",
   "mimetype": "text/x-python",
   "name": "python",
   "nbconvert_exporter": "python",
   "pygments_lexer": "ipython3",
   "version": "3.12.4"
  }
 },
 "nbformat": 4,
 "nbformat_minor": 5
}
